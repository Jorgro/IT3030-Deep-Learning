{
 "cells": [
  {
   "cell_type": "code",
   "execution_count": 8,
   "metadata": {},
   "outputs": [],
   "source": [
    "from tensorflow import keras\n",
    "import tensorflow as tf\n",
    "from tensorflow.keras import layers\n",
    "import tensorflow_probability as tfp\n"
   ]
  },
  {
   "cell_type": "code",
   "execution_count": 9,
   "metadata": {},
   "outputs": [],
   "source": [
    "dim_z = 8"
   ]
  },
  {
   "cell_type": "code",
   "execution_count": 66,
   "metadata": {},
   "outputs": [
    {
     "name": "stdout",
     "output_type": "stream",
     "text": [
      "Model: \"model_37\"\n",
      "_________________________________________________________________\n",
      " Layer (type)                Output Shape              Param #   \n",
      "=================================================================\n",
      " input_45 (InputLayer)       [(None, 28, 28, 1)]       0         \n",
      "                                                                 \n",
      " conv2d_38 (Conv2D)          (None, 13, 13, 32)        320       \n",
      "                                                                 \n",
      " conv2d_39 (Conv2D)          (None, 6, 6, 64)          18496     \n",
      "                                                                 \n",
      " flatten_14 (Flatten)        (None, 2304)              0         \n",
      "                                                                 \n",
      " z_params (Dense)            (None, 16)                36880     \n",
      "                                                                 \n",
      " z_layer (IndependentNormal)  ((None, 8),              0         \n",
      "                              (None, 8))                         \n",
      "                                                                 \n",
      " input_46 (InputLayer)       multiple                  0         \n",
      "                                                                 \n",
      " dense_19 (Dense)            (None, 1568)              14112     \n",
      "                                                                 \n",
      " reshape_9 (Reshape)         (None, 7, 7, 32)          0         \n",
      "                                                                 \n",
      " conv2d_transpose_24 (Conv2D  (None, 14, 14, 64)       18496     \n",
      " Transpose)                                                      \n",
      "                                                                 \n",
      " conv2d_transpose_25 (Conv2D  (None, 28, 28, 32)       18464     \n",
      " Transpose)                                                      \n",
      "                                                                 \n",
      " conv2d_transpose_26 (Conv2D  (None, 28, 28, 1)        289       \n",
      " Transpose)                                                      \n",
      "                                                                 \n",
      " x_params (Flatten)          (None, 784)               0         \n",
      "                                                                 \n",
      " x_layer (IndependentBernoul  ((None, 28, 28, 1),      0         \n",
      " li)                          (None, 28, 28, 1))                 \n",
      "                                                                 \n",
      "=================================================================\n",
      "Total params: 107,057\n",
      "Trainable params: 107,057\n",
      "Non-trainable params: 0\n",
      "_________________________________________________________________\n"
     ]
    }
   ],
   "source": [
    "prior = tfp.distributions.Independent(\n",
    "            tfp.distributions.Normal(loc=tf.zeros(dim_z), scale=1.0),\n",
    "            reinterpreted_batch_ndims=1,\n",
    "        )\n",
    "input_img = keras.Input(shape=(28, 28, 1))\n",
    "x = layers.Conv2D(\n",
    "                filters=32,\n",
    "                kernel_size=3,\n",
    "                strides=(2, 2),\n",
    "                padding=\"valid\",\n",
    "                activation=\"relu\",\n",
    "            ) (input_img)\n",
    "x = layers.Conv2D(\n",
    "                filters=64,\n",
    "                kernel_size=3,\n",
    "                strides=(2, 2),\n",
    "                padding=\"valid\",\n",
    "                activation=\"relu\",\n",
    "            ) (x)\n",
    "x = layers.Flatten()(x)\n",
    "x = layers.Dense(\n",
    "                tfp.layers.IndependentNormal.params_size(dim_z),\n",
    "                activation=None,\n",
    "                name=\"z_params\",\n",
    "            )(x)\n",
    "encoded = tfp.layers.IndependentNormal(\n",
    "                dim_z,\n",
    "                activity_regularizer=tfp.layers.KLDivergenceRegularizer(\n",
    "                    prior, weight=2.0\n",
    "                ),\n",
    "                name=\"z_layer\",)(x)\n",
    "\n",
    "decoder_input = layers.InputLayer(input_shape=dim_z)(encoded)\n",
    "x = layers.Dense(7 * 7 * 32, activation=None)(decoder_input)\n",
    "x = layers.Reshape((7, 7, 32))(x)\n",
    "x = layers.Conv2DTranspose(\n",
    "                filters=64, kernel_size=3, strides=2, padding=\"same\", activation=\"relu\"\n",
    "            )(x)\n",
    "x = layers.Conv2DTranspose(\n",
    "                filters=32, kernel_size=3, strides=2, padding=\"same\", activation=\"relu\"\n",
    "            )(x)\n",
    "x = layers.Conv2DTranspose(filters=1, kernel_size=3, strides=1, padding=\"same\")(x)\n",
    "x = layers.Flatten(name=\"x_params\")(x)\n",
    "decoded = tfp.layers.IndependentBernoulli((28, 28, 1), name=\"x_layer\")(x)\n",
    "vae = keras.Model(input_img, decoded)\n",
    "vae.compile(optimizer='adam', loss=lambda x, y: -y.log_prob(x))\n",
    "vae.summary()"
   ]
  },
  {
   "cell_type": "code",
   "execution_count": 11,
   "metadata": {},
   "outputs": [
    {
     "name": "stderr",
     "output_type": "stream",
     "text": [
      "/var/folders/w2/4g3c4yrn38g2nwwdhjdlx6fc0000gn/T/ipykernel_4163/4188248072.py:11: DeprecationWarning: `np.int` is a deprecated alias for the builtin `int`. To silence this warning, use `int` by itself. Doing this will not modify any behavior and is safe. When replacing `np.int`, you may wish to use e.g. `np.int64` or `np.int32` to specify the precision. If you wish to review your current use, check the release note link for additional information.\n",
      "Deprecated in NumPy 1.20; for more details and guidance: https://numpy.org/devdocs/release/1.20.0-notes.html#deprecations\n",
      "  y_train = keras.utils.to_categorical((y_train % 10).astype(np.int), 10)\n",
      "/var/folders/w2/4g3c4yrn38g2nwwdhjdlx6fc0000gn/T/ipykernel_4163/4188248072.py:13: DeprecationWarning: `np.int` is a deprecated alias for the builtin `int`. To silence this warning, use `int` by itself. Doing this will not modify any behavior and is safe. When replacing `np.int`, you may wish to use e.g. `np.int64` or `np.int32` to specify the precision. If you wish to review your current use, check the release note link for additional information.\n",
      "Deprecated in NumPy 1.20; for more details and guidance: https://numpy.org/devdocs/release/1.20.0-notes.html#deprecations\n",
      "  y_test = keras.utils.to_categorical((y_test % 10).astype(np.int), 10)\n"
     ]
    }
   ],
   "source": [
    "from stacked_mnist import StackedMNISTData, DataMode\n",
    "import numpy as np\n",
    "\n",
    "generator = StackedMNISTData(mode=DataMode.MONO_BINARY_MISSING, default_batch_size=2048)\n",
    "\n",
    "x_train, y_train = generator.get_full_data_set(training=True)\n",
    "x_test, y_test = generator.get_full_data_set(training=False)\n",
    "\n",
    "# \"Translate\": Only look at \"red\" channel; only use the last digit. Use one-hot for labels during training\n",
    "x_train = x_train[:, :, :, [0]]\n",
    "y_train = keras.utils.to_categorical((y_train % 10).astype(np.int), 10)\n",
    "x_test = x_test[:, :, :, [0]]\n",
    "y_test = keras.utils.to_categorical((y_test % 10).astype(np.int), 10)"
   ]
  },
  {
   "cell_type": "code",
   "execution_count": 67,
   "metadata": {},
   "outputs": [
    {
     "name": "stdout",
     "output_type": "stream",
     "text": [
      "Epoch 1/10\n",
      "WARNING:tensorflow:Detecting that an object or model or tf.train.Checkpoint is being deleted with unrestored values. See the following logs for the specific values in question. To silence these warnings, use `status.expect_partial()`. See https://www.tensorflow.org/api_docs/python/tf/train/Checkpoint#restorefor details about the status object returned by the restore function.\n",
      "WARNING:tensorflow:Value in checkpoint could not be found in the restored object: (root).optimizer.iter\n",
      "WARNING:tensorflow:Value in checkpoint could not be found in the restored object: (root).optimizer.beta_1\n",
      "WARNING:tensorflow:Value in checkpoint could not be found in the restored object: (root).optimizer.beta_2\n",
      "WARNING:tensorflow:Value in checkpoint could not be found in the restored object: (root).optimizer.decay\n",
      "WARNING:tensorflow:Value in checkpoint could not be found in the restored object: (root).optimizer.learning_rate\n",
      "WARNING:tensorflow:Detecting that an object or model or tf.train.Checkpoint is being deleted with unrestored values. See the following logs for the specific values in question. To silence these warnings, use `status.expect_partial()`. See https://www.tensorflow.org/api_docs/python/tf/train/Checkpoint#restorefor details about the status object returned by the restore function.\n",
      "WARNING:tensorflow:Value in checkpoint could not be found in the restored object: (root).optimizer.iter\n",
      "WARNING:tensorflow:Value in checkpoint could not be found in the restored object: (root).optimizer.beta_1\n",
      "WARNING:tensorflow:Value in checkpoint could not be found in the restored object: (root).optimizer.beta_2\n",
      "WARNING:tensorflow:Value in checkpoint could not be found in the restored object: (root).optimizer.decay\n",
      "WARNING:tensorflow:Value in checkpoint could not be found in the restored object: (root).optimizer.learning_rate\n",
      "469/469 [==============================] - 33s 66ms/step - loss: 200.3154 - val_loss: 159.0822\n",
      "Epoch 2/10\n",
      "469/469 [==============================] - 29s 61ms/step - loss: 151.8313 - val_loss: 146.2973\n",
      "Epoch 3/10\n",
      "469/469 [==============================] - 31s 67ms/step - loss: 145.5946 - val_loss: 142.6749\n",
      "Epoch 4/10\n",
      "469/469 [==============================] - 29s 61ms/step - loss: 142.7489 - val_loss: 140.7639\n",
      "Epoch 5/10\n",
      "469/469 [==============================] - 28s 60ms/step - loss: 141.0995 - val_loss: 139.4569\n",
      "Epoch 6/10\n",
      "469/469 [==============================] - 28s 61ms/step - loss: 139.8203 - val_loss: 138.3770\n",
      "Epoch 7/10\n",
      "469/469 [==============================] - 28s 60ms/step - loss: 138.9599 - val_loss: 137.7299\n",
      "Epoch 8/10\n",
      "469/469 [==============================] - 30s 64ms/step - loss: 138.1588 - val_loss: 136.9034\n",
      "Epoch 9/10\n",
      "469/469 [==============================] - 31s 66ms/step - loss: 137.5901 - val_loss: 136.6725\n",
      "Epoch 10/10\n",
      "469/469 [==============================] - 33s 70ms/step - loss: 137.0992 - val_loss: 136.4410\n"
     ]
    },
    {
     "data": {
      "text/plain": [
       "<keras.callbacks.History at 0x7f955ba6a2e0>"
      ]
     },
     "execution_count": 67,
     "metadata": {},
     "output_type": "execute_result"
    }
   ],
   "source": [
    "vae.fit(x_train, x_train,\n",
    "                epochs=10,\n",
    "                batch_size=128,\n",
    "                shuffle=True,\n",
    "                validation_data=(x_test, x_test))"
   ]
  },
  {
   "cell_type": "code",
   "execution_count": null,
   "metadata": {},
   "outputs": [],
   "source": [
    "generator_full = StackedMNISTData(mode=DataMode.MONO_BINARY_COMPLETE, default_batch_size=2048)\n",
    "x_test, y_test = generator.get_full_data_set(training=False)\n",
    "\n",
    "# \"Translate\": Only look at \"red\" channel; only use the last digit. Use one-hot for labels during training\n",
    "x_train = x_train[:, :, :, [0]]\n",
    "x_test = x_test[:, :, :, [0]]"
   ]
  },
  {
   "cell_type": "code",
   "execution_count": null,
   "metadata": {},
   "outputs": [],
   "source": [
    "reconstructed = vae(x_test).mode()\n",
    "bce = keras.losses.BinaryCrossentropy()\n",
    "losses = []\n",
    "for i in range(x_test.shape[0]):\n",
    "    losses.append(bce(x_test[i], reconstructed[i]).numpy())\n",
    "losses = np.array(losses)\n",
    "ind = np.argpartition(losses, -10)[-10:] # Get the indices of the 10 largest losses"
   ]
  },
  {
   "cell_type": "code",
   "execution_count": null,
   "metadata": {},
   "outputs": [],
   "source": [
    "import matplotlib.pyplot as plt\n",
    "n = 10\n",
    "plt.figure(figsize=(20, 4))\n",
    "for i in range(1, n + 1):\n",
    "    # Display original\n",
    "    ax = plt.subplot(2, n, i)\n",
    "    plt.imshow(x_test[ind[i-1]].reshape(28, 28))\n",
    "    plt.gray()\n",
    "    ax.get_xaxis().set_visible(False)\n",
    "    ax.get_yaxis().set_visible(False)\n",
    "plt.show()"
   ]
  }
 ],
 "metadata": {
  "interpreter": {
   "hash": "49ff9a1d55cbad36b515c3ded8837e12145fab330794be4b4ac6e95d3772d975"
  },
  "kernelspec": {
   "display_name": "Python 3.8.0 ('tensorflow')",
   "language": "python",
   "name": "python3"
  },
  "language_info": {
   "codemirror_mode": {
    "name": "ipython",
    "version": 3
   },
   "file_extension": ".py",
   "mimetype": "text/x-python",
   "name": "python",
   "nbconvert_exporter": "python",
   "pygments_lexer": "ipython3",
   "version": "3.8.0"
  },
  "orig_nbformat": 4
 },
 "nbformat": 4,
 "nbformat_minor": 2
}

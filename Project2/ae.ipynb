{
 "cells": [
  {
   "cell_type": "code",
   "execution_count": 5,
   "metadata": {},
   "outputs": [
    {
     "name": "stdout",
     "output_type": "stream",
     "text": [
      "The autoreload extension is already loaded. To reload it, use:\n",
      "  %reload_ext autoreload\n"
     ]
    },
    {
     "name": "stderr",
     "output_type": "stream",
     "text": [
      "[autoreload of auto_encoder failed: Traceback (most recent call last):\n",
      "  File \"/usr/local/anaconda3/envs/tensorflow/lib/python3.8/site-packages/IPython/extensions/autoreload.py\", line 245, in check\n",
      "    superreload(m, reload, self.old_objects)\n",
      "  File \"/usr/local/anaconda3/envs/tensorflow/lib/python3.8/site-packages/IPython/extensions/autoreload.py\", line 410, in superreload\n",
      "    update_generic(old_obj, new_obj)\n",
      "  File \"/usr/local/anaconda3/envs/tensorflow/lib/python3.8/site-packages/IPython/extensions/autoreload.py\", line 347, in update_generic\n",
      "    update(a, b)\n",
      "  File \"/usr/local/anaconda3/envs/tensorflow/lib/python3.8/site-packages/IPython/extensions/autoreload.py\", line 302, in update_class\n",
      "    if update_generic(old_obj, new_obj): continue\n",
      "  File \"/usr/local/anaconda3/envs/tensorflow/lib/python3.8/site-packages/IPython/extensions/autoreload.py\", line 347, in update_generic\n",
      "    update(a, b)\n",
      "  File \"/usr/local/anaconda3/envs/tensorflow/lib/python3.8/site-packages/IPython/extensions/autoreload.py\", line 266, in update_function\n",
      "    setattr(old, name, getattr(new, name))\n",
      "ValueError: __init__() requires a code object with 1 free vars, not 0\n",
      "]\n"
     ]
    }
   ],
   "source": [
    "%load_ext autoreload\n",
    "%autoreload 2"
   ]
  },
  {
   "cell_type": "code",
   "execution_count": 16,
   "metadata": {},
   "outputs": [],
   "source": [
    "from auto_encoder import AutoEncoder\n",
    "from stacked_mnist import StackedMNISTData, DataMode\n",
    "import numpy as np\n",
    "import matplotlib.pyplot as plt\n",
    "from verification_net import VerificationNet"
   ]
  },
  {
   "cell_type": "code",
   "execution_count": 11,
   "metadata": {},
   "outputs": [
    {
     "name": "stderr",
     "output_type": "stream",
     "text": [
      "2022-03-03 19:04:37.736081: I tensorflow/core/platform/cpu_feature_guard.cc:151] This TensorFlow binary is optimized with oneAPI Deep Neural Network Library (oneDNN) to use the following CPU instructions in performance-critical operations:  AVX2 FMA\n",
      "To enable them in other operations, rebuild TensorFlow with the appropriate compiler flags.\n"
     ]
    },
    {
     "name": "stdout",
     "output_type": "stream",
     "text": [
      "Could not read weights from file. Must retrain...\n",
      "Epoch 1/10\n",
      "469/469 [==============================] - 27s 56ms/step - loss: 0.2247 - val_loss: 0.1374\n",
      "Epoch 2/10\n",
      "469/469 [==============================] - 26s 56ms/step - loss: 0.1270 - val_loss: 0.1177\n",
      "Epoch 3/10\n",
      "469/469 [==============================] - 30s 64ms/step - loss: 0.1151 - val_loss: 0.1110\n",
      "Epoch 4/10\n",
      "469/469 [==============================] - 34s 72ms/step - loss: 0.1096 - val_loss: 0.1068\n",
      "Epoch 5/10\n",
      "469/469 [==============================] - 29s 63ms/step - loss: 0.1060 - val_loss: 0.1037\n",
      "Epoch 6/10\n",
      "469/469 [==============================] - 28s 61ms/step - loss: 0.1033 - val_loss: 0.1023\n",
      "Epoch 7/10\n",
      "469/469 [==============================] - 29s 63ms/step - loss: 0.1011 - val_loss: 0.0996\n",
      "Epoch 8/10\n",
      "469/469 [==============================] - 31s 66ms/step - loss: 0.0995 - val_loss: 0.0986\n",
      "Epoch 9/10\n",
      "469/469 [==============================] - 26s 56ms/step - loss: 0.0980 - val_loss: 0.0977\n",
      "Epoch 10/10\n",
      "469/469 [==============================] - 29s 62ms/step - loss: 0.0968 - val_loss: 0.0967\n"
     ]
    }
   ],
   "source": [
    "auto_encoder = AutoEncoder(latent_dim=20)\n",
    "auto_encoder.train(force_relearn=True)"
   ]
  },
  {
   "cell_type": "code",
   "execution_count": 13,
   "metadata": {},
   "outputs": [],
   "source": [
    "generator = StackedMNISTData(mode=DataMode.MONO_BINARY_COMPLETE, default_batch_size=2048)\n",
    "x_test, y_test = generator.get_random_batch(training=False, batch_size=2000)\n",
    "reconstructed = auto_encoder.reconstruct(x_test)"
   ]
  },
  {
   "cell_type": "code",
   "execution_count": 14,
   "metadata": {},
   "outputs": [
    {
     "data": {
      "image/png": "[encoded data removed]",
      "text/plain": [
       "<Figure size 1440x288 with 20 Axes>"
      ]
     },
     "metadata": {
      "needs_background": "light"
     },
     "output_type": "display_data"
    }
   ],
   "source": [
    "n = 10\n",
    "plt.figure(figsize=(20, 4))\n",
    "for i in range(1, n + 1):\n",
    "    # Display original\n",
    "    ax = plt.subplot(2, n, i)\n",
    "    plt.imshow(x_test[i].reshape(28, 28))\n",
    "    plt.gray()\n",
    "    ax.get_xaxis().set_visible(False)\n",
    "    ax.get_yaxis().set_visible(False)\n",
    "\n",
    "    # Display reconstruction\n",
    "    ax = plt.subplot(2, n, i + n)\n",
    "    plt.imshow(reconstructed[i].reshape(28, 28))\n",
    "    plt.gray()\n",
    "    ax.get_xaxis().set_visible(False)\n",
    "    ax.get_yaxis().set_visible(False)\n",
    "plt.show()"
   ]
  },
  {
   "cell_type": "code",
   "execution_count": 17,
   "metadata": {},
   "outputs": [
    {
     "name": "stderr",
     "output_type": "stream",
     "text": [
      "/usr/local/anaconda3/envs/tensorflow/lib/python3.8/site-packages/keras/optimizer_v2/adam.py:105: UserWarning: The `lr` argument is deprecated, use `learning_rate` instead.\n",
      "  super(Adam, self).__init__(name, **kwargs)\n"
     ]
    },
    {
     "name": "stdout",
     "output_type": "stream",
     "text": [
      "Accuracy of Reconstruction: 84.40%\n"
     ]
    }
   ],
   "source": [
    "net = VerificationNet(force_learn=False, file_name=\"../models/verification_model\")\n",
    "_, acc_ae = net.check_predictability(data=reconstructed, correct_labels=y_test)\n",
    "print(f\"Accuracy of Reconstruction: {100 * acc_ae:.2f}%\")\n"
   ]
  },
  {
   "cell_type": "code",
   "execution_count": null,
   "metadata": {},
   "outputs": [],
   "source": []
  }
 ],
 "metadata": {
  "interpreter": {
   "hash": "49ff9a1d55cbad36b515c3ded8837e12145fab330794be4b4ac6e95d3772d975"
  },
  "kernelspec": {
   "display_name": "Python 3.8.0 ('tensorflow')",
   "language": "python",
   "name": "python3"
  },
  "language_info": {
   "codemirror_mode": {
    "name": "ipython",
    "version": 3
   },
   "file_extension": ".py",
   "mimetype": "text/x-python",
   "name": "python",
   "nbconvert_exporter": "python",
   "pygments_lexer": "ipython3",
   "version": "3.8.0"
  },
  "orig_nbformat": 4
 },
 "nbformat": 4,
 "nbformat_minor": 2
}

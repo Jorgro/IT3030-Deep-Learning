{
 "cells": [
  {
   "cell_type": "code",
   "execution_count": 172,
   "metadata": {},
   "outputs": [
    {
     "name": "stdout",
     "output_type": "stream",
     "text": [
      "The autoreload extension is already loaded. To reload it, use:\n",
      "  %reload_ext autoreload\n"
     ]
    }
   ],
   "source": [
    "%load_ext autoreload\n",
    "%autoreload 2"
   ]
  },
  {
   "cell_type": "code",
   "execution_count": 173,
   "metadata": {},
   "outputs": [],
   "source": [
    "from variational_auto_encoder import VariationalAutoEncoder\n",
    "from stacked_mnist import StackedMNISTData, DataMode\n",
    "import numpy as np\n",
    "import matplotlib.pyplot as plt\n",
    "from verification_net import VerificationNet\n",
    "from utils import display_images"
   ]
  },
  {
   "cell_type": "code",
   "execution_count": 174,
   "metadata": {},
   "outputs": [
    {
     "name": "stdout",
     "output_type": "stream",
     "text": [
      "Model: \"model_75\"\n",
      "_________________________________________________________________\n",
      " Layer (type)                Output Shape              Param #   \n",
      "=================================================================\n",
      " input_79 (InputLayer)       [(None, 28, 28, 1)]       0         \n",
      "                                                                 \n",
      " conv2d_184 (Conv2D)         (None, 13, 13, 32)        320       \n",
      "                                                                 \n",
      " conv2d_185 (Conv2D)         (None, 6, 6, 64)          18496     \n",
      "                                                                 \n",
      " flatten_80 (Flatten)        (None, 2304)              0         \n",
      "                                                                 \n",
      " dense_134 (Dense)           (None, 256)               590080    \n",
      "                                                                 \n",
      " dense_135 (Dense)           (None, 16)                4112      \n",
      "                                                                 \n",
      " independent_normal_25 (Inde  ((None, 8),              0         \n",
      " pendentNormal)               (None, 8))                         \n",
      "                                                                 \n",
      " input_80 (InputLayer)       multiple                  0         \n",
      "                                                                 \n",
      " dense_137 (Dense)           (None, 1568)              14112     \n",
      "                                                                 \n",
      " reshape_25 (Reshape)        (None, 7, 7, 32)          0         \n",
      "                                                                 \n",
      " conv2d_transpose_86 (Conv2D  (None, 14, 14, 64)       18496     \n",
      " Transpose)                                                      \n",
      "                                                                 \n",
      " conv2d_transpose_87 (Conv2D  (None, 28, 28, 32)       18464     \n",
      " Transpose)                                                      \n",
      "                                                                 \n",
      " conv2d_transpose_88 (Conv2D  (None, 28, 28, 1)        289       \n",
      " Transpose)                                                      \n",
      "                                                                 \n",
      " flatten_81 (Flatten)        (None, 784)               0         \n",
      "                                                                 \n",
      " independent_bernoulli_25 (I  ((None, 28, 28, 1),      0         \n",
      " ndependentBernoulli)         (None, 28, 28, 1))                 \n",
      "                                                                 \n",
      "=================================================================\n",
      "Total params: 664,369\n",
      "Trainable params: 664,369\n",
      "Non-trainable params: 0\n",
      "_________________________________________________________________\n"
     ]
    }
   ],
   "source": [
    "variational_auto_encoder = VariationalAutoEncoder(latent_dim=8)\n",
    "variational_auto_encoder.model.summary()"
   ]
  },
  {
   "cell_type": "code",
   "execution_count": 175,
   "metadata": {},
   "outputs": [
    {
     "name": "stdout",
     "output_type": "stream",
     "text": [
      "./models/vae\n",
      "Epoch 1/20\n",
      "WARNING:tensorflow:AutoGraph could not transform <function VariationalAutoEncoder.__init__.<locals>.<lambda> at 0x7f85df61ad30> and will run it as-is.\n",
      "Cause: could not parse the source code of <function VariationalAutoEncoder.__init__.<locals>.<lambda> at 0x7f85df61ad30>: no matching AST found among candidates:\n",
      "# coding=utf-8\n",
      "(lambda input, output: (- output.log_prob(input)))\n",
      "To silence this warning, decorate the function with @tf.autograph.experimental.do_not_convert\n",
      "WARNING: AutoGraph could not transform <function VariationalAutoEncoder.__init__.<locals>.<lambda> at 0x7f85df61ad30> and will run it as-is.\n",
      "Cause: could not parse the source code of <function VariationalAutoEncoder.__init__.<locals>.<lambda> at 0x7f85df61ad30>: no matching AST found among candidates:\n",
      "# coding=utf-8\n",
      "(lambda input, output: (- output.log_prob(input)))\n",
      "To silence this warning, decorate the function with @tf.autograph.experimental.do_not_convert\n",
      "469/469 [==============================] - 34s 70ms/step - loss: 179.3399 - val_loss: 118.6769\n",
      "Epoch 2/20\n",
      "469/469 [==============================] - 32s 69ms/step - loss: 110.5715 - val_loss: 104.6638\n",
      "Epoch 3/20\n",
      "469/469 [==============================] - 33s 70ms/step - loss: 103.4290 - val_loss: 100.8960\n",
      "Epoch 4/20\n",
      "469/469 [==============================] - 33s 70ms/step - loss: 100.1497 - val_loss: 98.2337\n",
      "Epoch 5/20\n",
      "469/469 [==============================] - 33s 70ms/step - loss: 97.9574 - val_loss: 96.8168\n",
      "Epoch 6/20\n",
      "469/469 [==============================] - 33s 71ms/step - loss: 96.2957 - val_loss: 95.3494\n",
      "Epoch 7/20\n",
      "469/469 [==============================] - 33s 70ms/step - loss: 95.1774 - val_loss: 94.7823\n",
      "Epoch 8/20\n",
      "469/469 [==============================] - 33s 71ms/step - loss: 94.2352 - val_loss: 93.7535\n",
      "Epoch 9/20\n",
      "469/469 [==============================] - 33s 71ms/step - loss: 93.4480 - val_loss: 93.0649\n",
      "Epoch 10/20\n",
      "469/469 [==============================] - 33s 71ms/step - loss: 92.8166 - val_loss: 92.6316\n",
      "Epoch 11/20\n",
      "469/469 [==============================] - 34s 73ms/step - loss: 92.2042 - val_loss: 92.2969\n",
      "Epoch 12/20\n",
      "469/469 [==============================] - 34s 72ms/step - loss: 91.6982 - val_loss: 92.0103\n",
      "Epoch 13/20\n",
      "469/469 [==============================] - 34s 72ms/step - loss: 91.2413 - val_loss: 91.7036\n",
      "Epoch 14/20\n",
      "469/469 [==============================] - 34s 72ms/step - loss: 90.8754 - val_loss: 91.1956\n",
      "Epoch 15/20\n",
      "469/469 [==============================] - 34s 72ms/step - loss: 90.5401 - val_loss: 90.9189\n",
      "Epoch 16/20\n",
      "469/469 [==============================] - 34s 73ms/step - loss: 90.1360 - val_loss: 90.9162\n",
      "Epoch 17/20\n",
      "469/469 [==============================] - 34s 72ms/step - loss: 89.8869 - val_loss: 90.7384\n",
      "Epoch 18/20\n",
      "469/469 [==============================] - 34s 72ms/step - loss: 89.5902 - val_loss: 90.2378\n",
      "Epoch 19/20\n",
      "469/469 [==============================] - 34s 73ms/step - loss: 89.2991 - val_loss: 90.0094\n",
      "Epoch 20/20\n",
      "469/469 [==============================] - 578s 1s/step - loss: 89.1153 - val_loss: 89.9948\n"
     ]
    }
   ],
   "source": [
    "variational_auto_encoder.train(epochs=20, force_relearn=False)"
   ]
  },
  {
   "cell_type": "markdown",
   "metadata": {},
   "source": [
    "# Mono Images"
   ]
  },
  {
   "cell_type": "code",
   "execution_count": 176,
   "metadata": {},
   "outputs": [],
   "source": [
    "generator = StackedMNISTData(mode=DataMode.MONO_BINARY_COMPLETE, default_batch_size=2048)\n",
    "x_test, y_test = generator.get_random_batch(training=False, batch_size=2000)"
   ]
  },
  {
   "cell_type": "markdown",
   "metadata": {},
   "source": [
    "### Reconstruction results"
   ]
  },
  {
   "cell_type": "code",
   "execution_count": 177,
   "metadata": {},
   "outputs": [
    {
     "data": {
      "image/png": "[encoded data removed]",
      "text/plain": [
       "<Figure size 1440x288 with 10 Axes>"
      ]
     },
     "metadata": {
      "needs_background": "light"
     },
     "output_type": "display_data"
    },
    {
     "data": {
      "image/png": "[encoded data removed]",
      "text/plain": [
       "<Figure size 1440x288 with 10 Axes>"
      ]
     },
     "metadata": {
      "needs_background": "light"
     },
     "output_type": "display_data"
    }
   ],
   "source": [
    "reconstructed = variational_auto_encoder.reconstruct(x_test)\n",
    "\n",
    "display_images(x_test, 10)\n",
    "display_images(reconstructed, 10)"
   ]
  },
  {
   "cell_type": "code",
   "execution_count": 178,
   "metadata": {},
   "outputs": [
    {
     "name": "stdout",
     "output_type": "stream",
     "text": [
      "Accuracy of Reconstruction: 91.70%\n"
     ]
    }
   ],
   "source": [
    "net = VerificationNet(force_learn=False, file_name=\"../models/verification_model\")\n",
    "_, acc_ae = net.check_predictability(data=reconstructed, correct_labels=y_test)\n",
    "print(f\"Accuracy of Reconstruction: {100 * acc_ae:.2f}%\")\n"
   ]
  },
  {
   "cell_type": "markdown",
   "metadata": {},
   "source": [
    "### Autoencoder as a generator"
   ]
  },
  {
   "cell_type": "code",
   "execution_count": 179,
   "metadata": {},
   "outputs": [
    {
     "data": {
      "image/png": "[encoded data removed]",
      "text/plain": [
       "<Figure size 1440x288 with 20 Axes>"
      ]
     },
     "metadata": {
      "needs_background": "light"
     },
     "output_type": "display_data"
    }
   ],
   "source": [
    "generated = variational_auto_encoder.generate_new_samples()\n",
    "display_images(generated, 20)"
   ]
  },
  {
   "cell_type": "code",
   "execution_count": 180,
   "metadata": {},
   "outputs": [
    {
     "name": "stdout",
     "output_type": "stream",
     "text": [
      "Coverage: 100.00%\n",
      "Predictability: 74.50%\n"
     ]
    }
   ],
   "source": [
    "cov = net.check_class_coverage(data=generated, tolerance=0.98)\n",
    "pred, _ = net.check_predictability(data=generated)\n",
    "print(f\"Coverage: {100*cov:.2f}%\")\n",
    "print(f\"Predictability: {100*pred:.2f}%\")"
   ]
  },
  {
   "cell_type": "markdown",
   "metadata": {},
   "source": [
    "# Color Images"
   ]
  },
  {
   "cell_type": "code",
   "execution_count": 181,
   "metadata": {},
   "outputs": [],
   "source": [
    "generator = StackedMNISTData(mode=DataMode.COLOR_BINARY_COMPLETE, default_batch_size=2048)\n",
    "x_test, y_test = generator.get_random_batch(training=False, batch_size=10000)\n",
    "x_test = x_test.astype(np.float64)"
   ]
  },
  {
   "cell_type": "markdown",
   "metadata": {},
   "source": [
    "### Reconstruction results"
   ]
  },
  {
   "cell_type": "code",
   "execution_count": 182,
   "metadata": {},
   "outputs": [
    {
     "data": {
      "image/png": "[encoded data removed]",
      "text/plain": [
       "<Figure size 1440x288 with 10 Axes>"
      ]
     },
     "metadata": {
      "needs_background": "light"
     },
     "output_type": "display_data"
    },
    {
     "data": {
      "image/png": "[encoded data removed]",
      "text/plain": [
       "<Figure size 1440x288 with 10 Axes>"
      ]
     },
     "metadata": {
      "needs_background": "light"
     },
     "output_type": "display_data"
    }
   ],
   "source": [
    "reconstructed = variational_auto_encoder.reconstruct(x_test)\n",
    "\n",
    "display_images(x_test, 10, color=True)\n",
    "display_images(reconstructed, 10, color=True)"
   ]
  },
  {
   "cell_type": "code",
   "execution_count": 183,
   "metadata": {},
   "outputs": [
    {
     "name": "stdout",
     "output_type": "stream",
     "text": [
      "Accuracy of Reconstruction: 80.46%\n"
     ]
    }
   ],
   "source": [
    "net = VerificationNet(force_learn=False, file_name=\"../models/verification_model\")\n",
    "_, acc_ae = net.check_predictability(data=reconstructed, correct_labels=y_test, tolerance=0.5)\n",
    "print(f\"Accuracy of Reconstruction: {100 * acc_ae:.2f}%\")"
   ]
  },
  {
   "cell_type": "markdown",
   "metadata": {},
   "source": [
    "### Variational-Auto-Encoder as a generator"
   ]
  },
  {
   "cell_type": "code",
   "execution_count": 184,
   "metadata": {},
   "outputs": [
    {
     "name": "stdout",
     "output_type": "stream",
     "text": [
      "WARNING:tensorflow:Detecting that an object or model or tf.train.Checkpoint is being deleted with unrestored values. See the following logs for the specific values in question. To silence these warnings, use `status.expect_partial()`. See https://www.tensorflow.org/api_docs/python/tf/train/Checkpoint#restorefor details about the status object returned by the restore function.\n",
      "WARNING:tensorflow:Value in checkpoint could not be found in the restored object: (root).optimizer.iter\n",
      "WARNING:tensorflow:Value in checkpoint could not be found in the restored object: (root).optimizer.beta_1\n",
      "WARNING:tensorflow:Value in checkpoint could not be found in the restored object: (root).optimizer.beta_2\n",
      "WARNING:tensorflow:Value in checkpoint could not be found in the restored object: (root).optimizer.decay\n",
      "WARNING:tensorflow:Value in checkpoint could not be found in the restored object: (root).optimizer.learning_rate\n",
      "WARNING:tensorflow:Detecting that an object or model or tf.train.Checkpoint is being deleted with unrestored values. See the following logs for the specific values in question. To silence these warnings, use `status.expect_partial()`. See https://www.tensorflow.org/api_docs/python/tf/train/Checkpoint#restorefor details about the status object returned by the restore function.\n",
      "WARNING:tensorflow:Value in checkpoint could not be found in the restored object: (root).optimizer.iter\n",
      "WARNING:tensorflow:Value in checkpoint could not be found in the restored object: (root).optimizer.beta_1\n",
      "WARNING:tensorflow:Value in checkpoint could not be found in the restored object: (root).optimizer.beta_2\n",
      "WARNING:tensorflow:Value in checkpoint could not be found in the restored object: (root).optimizer.decay\n",
      "WARNING:tensorflow:Value in checkpoint could not be found in the restored object: (root).optimizer.learning_rate\n"
     ]
    },
    {
     "data": {
      "image/png": "[encoded data removed]",
      "text/plain": [
       "<Figure size 1440x288 with 20 Axes>"
      ]
     },
     "metadata": {
      "needs_background": "light"
     },
     "output_type": "display_data"
    }
   ],
   "source": [
    "generated = variational_auto_encoder.generate_new_samples(no_channels=3)\n",
    "display_images(generated, 20, color=True)"
   ]
  },
  {
   "cell_type": "code",
   "execution_count": 185,
   "metadata": {},
   "outputs": [
    {
     "name": "stdout",
     "output_type": "stream",
     "text": [
      "Coverage: 15.00%\n",
      "Predictability: 41.80%\n"
     ]
    }
   ],
   "source": [
    "cov = net.check_class_coverage(data=generated, tolerance=0.98)\n",
    "pred, _ = net.check_predictability(data=generated)\n",
    "print(f\"Coverage: {100*cov:.2f}%\")\n",
    "print(f\"Predictability: {100*pred:.2f}%\")"
   ]
  },
  {
   "cell_type": "markdown",
   "metadata": {},
   "source": [
    "# Variational-Auto-Encoder as anomaly detector"
   ]
  },
  {
   "cell_type": "code",
   "execution_count": 188,
   "metadata": {},
   "outputs": [
    {
     "name": "stdout",
     "output_type": "stream",
     "text": [
      "./models/vae_missing\n",
      "Epoch 1/20\n",
      "WARNING:tensorflow:AutoGraph could not transform <function VariationalAutoEncoder.__init__.<locals>.<lambda> at 0x7f853db1f550> and will run it as-is.\n",
      "Cause: could not parse the source code of <function VariationalAutoEncoder.__init__.<locals>.<lambda> at 0x7f853db1f550>: no matching AST found among candidates:\n",
      "# coding=utf-8\n",
      "(lambda input, output: (- output.log_prob(input)))\n",
      "To silence this warning, decorate the function with @tf.autograph.experimental.do_not_convert\n",
      "WARNING: AutoGraph could not transform <function VariationalAutoEncoder.__init__.<locals>.<lambda> at 0x7f853db1f550> and will run it as-is.\n",
      "Cause: could not parse the source code of <function VariationalAutoEncoder.__init__.<locals>.<lambda> at 0x7f853db1f550>: no matching AST found among candidates:\n",
      "# coding=utf-8\n",
      "(lambda input, output: (- output.log_prob(input)))\n",
      "To silence this warning, decorate the function with @tf.autograph.experimental.do_not_convert\n",
      "424/424 [==============================] - 33s 74ms/step - loss: 176.7706 - val_loss: 119.1057\n",
      "Epoch 2/20\n",
      "424/424 [==============================] - 29s 70ms/step - loss: 106.8644 - val_loss: 107.9434\n",
      "Epoch 3/20\n",
      "424/424 [==============================] - 33s 78ms/step - loss: 99.7033 - val_loss: 104.2634\n",
      "Epoch 4/20\n",
      "424/424 [==============================] - 33s 77ms/step - loss: 96.3345 - val_loss: 101.9418\n",
      "Epoch 5/20\n",
      "424/424 [==============================] - 30s 70ms/step - loss: 94.2609 - val_loss: 99.8387\n",
      "Epoch 6/20\n",
      "424/424 [==============================] - 30s 70ms/step - loss: 92.6875 - val_loss: 99.5573\n",
      "Epoch 7/20\n",
      "424/424 [==============================] - 32s 76ms/step - loss: 91.5676 - val_loss: 98.8205\n",
      "Epoch 8/20\n",
      "424/424 [==============================] - 31s 73ms/step - loss: 90.5318 - val_loss: 100.4551\n",
      "Epoch 9/20\n",
      "424/424 [==============================] - 28s 66ms/step - loss: 89.8008 - val_loss: 97.7665\n",
      "Epoch 10/20\n",
      "424/424 [==============================] - 30s 72ms/step - loss: 89.1313 - val_loss: 97.4246\n",
      "Epoch 11/20\n",
      "424/424 [==============================] - 32s 75ms/step - loss: 88.5430 - val_loss: 96.7755\n",
      "Epoch 12/20\n",
      "424/424 [==============================] - 34s 80ms/step - loss: 88.0193 - val_loss: 98.4365\n",
      "Epoch 13/20\n",
      "424/424 [==============================] - 29s 68ms/step - loss: 87.6442 - val_loss: 97.0776\n",
      "Epoch 14/20\n",
      "424/424 [==============================] - 29s 68ms/step - loss: 87.2101 - val_loss: 97.2735\n",
      "Epoch 15/20\n",
      "424/424 [==============================] - 33s 78ms/step - loss: 86.8944 - val_loss: 96.5947\n",
      "Epoch 16/20\n",
      "424/424 [==============================] - 39s 92ms/step - loss: 86.5012 - val_loss: 96.6153\n",
      "Epoch 17/20\n",
      "424/424 [==============================] - 34s 80ms/step - loss: 86.2172 - val_loss: 97.9208\n",
      "Epoch 18/20\n",
      "424/424 [==============================] - 29s 69ms/step - loss: 85.9970 - val_loss: 96.2575\n",
      "Epoch 19/20\n",
      "424/424 [==============================] - 29s 70ms/step - loss: 85.7067 - val_loss: 96.1373\n",
      "Epoch 20/20\n",
      "424/424 [==============================] - 29s 69ms/step - loss: 85.3905 - val_loss: 95.1529\n"
     ]
    }
   ],
   "source": [
    "vae_anomaly = VariationalAutoEncoder(latent_dim=8, missing=True)\n",
    "vae_anomaly.train(epochs=20, force_relearn=True)"
   ]
  },
  {
   "cell_type": "markdown",
   "metadata": {},
   "source": [
    "### Mono images"
   ]
  },
  {
   "cell_type": "code",
   "execution_count": 192,
   "metadata": {},
   "outputs": [
    {
     "data": {
      "image/png": "[encoded data removed]",
      "text/plain": [
       "<Figure size 1440x288 with 30 Axes>"
      ]
     },
     "metadata": {
      "needs_background": "light"
     },
     "output_type": "display_data"
    }
   ],
   "source": [
    "generator = StackedMNISTData(mode=DataMode.MONO_BINARY_COMPLETE, default_batch_size=2048)\n",
    "x_test, y_test = generator.get_random_batch(training=False, batch_size=2000)\n",
    "\n",
    "anomalies = vae_anomaly.get_anomalies(x_test, k=30, N=1000)\n",
    "display_images(x_test[anomalies], 30)"
   ]
  },
  {
   "cell_type": "markdown",
   "metadata": {},
   "source": [
    "### Color images"
   ]
  },
  {
   "cell_type": "code",
   "execution_count": 193,
   "metadata": {},
   "outputs": [
    {
     "data": {
      "image/png": "[encoded data removed]",
      "text/plain": [
       "<Figure size 1440x288 with 30 Axes>"
      ]
     },
     "metadata": {
      "needs_background": "light"
     },
     "output_type": "display_data"
    }
   ],
   "source": [
    "generator = StackedMNISTData(mode=DataMode.COLOR_BINARY_COMPLETE, default_batch_size=2048)\n",
    "x_test, y_test = generator.get_random_batch(training=False, batch_size=2000)\n",
    "x_test = x_test.astype(np.float64)\n",
    "\n",
    "anomalies = vae_anomaly.get_anomalies(x_test, k=30, N=1000)\n",
    "display_images(x_test[anomalies], 30, color=True)"
   ]
  }
 ],
 "metadata": {
  "interpreter": {
   "hash": "49ff9a1d55cbad36b515c3ded8837e12145fab330794be4b4ac6e95d3772d975"
  },
  "kernelspec": {
   "display_name": "Python 3.8.0 ('tensorflow')",
   "language": "python",
   "name": "python3"
  },
  "language_info": {
   "codemirror_mode": {
    "name": "ipython",
    "version": 3
   },
   "file_extension": ".py",
   "mimetype": "text/x-python",
   "name": "python",
   "nbconvert_exporter": "python",
   "pygments_lexer": "ipython3",
   "version": "3.8.0"
  },
  "orig_nbformat": 4
 },
 "nbformat": 4,
 "nbformat_minor": 2
}

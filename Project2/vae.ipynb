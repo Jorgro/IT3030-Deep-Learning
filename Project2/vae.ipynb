{
 "cells": [
  {
   "cell_type": "code",
   "execution_count": 148,
   "metadata": {},
   "outputs": [
    {
     "name": "stdout",
     "output_type": "stream",
     "text": [
      "The autoreload extension is already loaded. To reload it, use:\n",
      "  %reload_ext autoreload\n"
     ]
    }
   ],
   "source": [
    "%load_ext autoreload\n",
    "%autoreload 2"
   ]
  },
  {
   "cell_type": "code",
   "execution_count": 149,
   "metadata": {},
   "outputs": [],
   "source": [
    "from variational_auto_encoder import VariationalAutoEncoder\n",
    "from stacked_mnist import StackedMNISTData, DataMode\n",
    "import numpy as np\n",
    "import matplotlib.pyplot as plt\n",
    "from verification_net import VerificationNet\n",
    "from utils import display_images"
   ]
  },
  {
   "cell_type": "code",
   "execution_count": 150,
   "metadata": {},
   "outputs": [
    {
     "name": "stdout",
     "output_type": "stream",
     "text": [
      "Model: \"model_63\"\n",
      "_________________________________________________________________\n",
      " Layer (type)                Output Shape              Param #   \n",
      "=================================================================\n",
      " input_67 (InputLayer)       [(None, 28, 28, 1)]       0         \n",
      "                                                                 \n",
      " conv2d_168 (Conv2D)         (None, 12, 12, 32)        832       \n",
      "                                                                 \n",
      " max_pooling2d_103 (MaxPooli  (None, 6, 6, 32)         0         \n",
      " ng2D)                                                           \n",
      "                                                                 \n",
      " conv2d_169 (Conv2D)         (None, 2, 2, 64)          18496     \n",
      "                                                                 \n",
      " max_pooling2d_104 (MaxPooli  (None, 1, 1, 64)         0         \n",
      " ng2D)                                                           \n",
      "                                                                 \n",
      " flatten_70 (Flatten)        (None, 64)                0         \n",
      "                                                                 \n",
      " dense_114 (Dense)           (None, 256)               16640     \n",
      "                                                                 \n",
      " dense_115 (Dense)           (None, 16)                4112      \n",
      "                                                                 \n",
      " independent_normal_21 (Inde  ((None, 8),              0         \n",
      " pendentNormal)               (None, 8))                         \n",
      "                                                                 \n",
      " input_68 (InputLayer)       multiple                  0         \n",
      "                                                                 \n",
      " dense_117 (Dense)           (None, 1568)              14112     \n",
      "                                                                 \n",
      " reshape_21 (Reshape)        (None, 7, 7, 32)          0         \n",
      "                                                                 \n",
      " conv2d_transpose_73 (Conv2D  (None, 7, 7, 64)         18496     \n",
      " Transpose)                                                      \n",
      "                                                                 \n",
      " conv2d_transpose_74 (Conv2D  (None, 14, 14, 48)       27696     \n",
      " Transpose)                                                      \n",
      "                                                                 \n",
      " conv2d_transpose_75 (Conv2D  (None, 28, 28, 32)       13856     \n",
      " Transpose)                                                      \n",
      "                                                                 \n",
      " conv2d_transpose_76 (Conv2D  (None, 28, 28, 1)        289       \n",
      " Transpose)                                                      \n",
      "                                                                 \n",
      " flatten_71 (Flatten)        (None, 784)               0         \n",
      "                                                                 \n",
      " independent_bernoulli_21 (I  ((None, 28, 28, 1),      0         \n",
      " ndependentBernoulli)         (None, 28, 28, 1))                 \n",
      "                                                                 \n",
      "=================================================================\n",
      "Total params: 114,529\n",
      "Trainable params: 114,529\n",
      "Non-trainable params: 0\n",
      "_________________________________________________________________\n"
     ]
    }
   ],
   "source": [
    "variational_auto_encoder = VariationalAutoEncoder(latent_dim=8)\n",
    "variational_auto_encoder.model.summary()"
   ]
  },
  {
   "cell_type": "code",
   "execution_count": 151,
   "metadata": {},
   "outputs": [
    {
     "name": "stdout",
     "output_type": "stream",
     "text": [
      "./models/vae\n",
      "Epoch 1/20\n",
      "WARNING:tensorflow:AutoGraph could not transform <function VariationalAutoEncoder.__init__.<locals>.<lambda> at 0x7f863aebd3a0> and will run it as-is.\n",
      "Cause: could not parse the source code of <function VariationalAutoEncoder.__init__.<locals>.<lambda> at 0x7f863aebd3a0>: no matching AST found among candidates:\n",
      "# coding=utf-8\n",
      "(lambda input, output: (- output.log_prob(input)))\n",
      "To silence this warning, decorate the function with @tf.autograph.experimental.do_not_convert\n",
      "WARNING: AutoGraph could not transform <function VariationalAutoEncoder.__init__.<locals>.<lambda> at 0x7f863aebd3a0> and will run it as-is.\n",
      "Cause: could not parse the source code of <function VariationalAutoEncoder.__init__.<locals>.<lambda> at 0x7f863aebd3a0>: no matching AST found among candidates:\n",
      "# coding=utf-8\n",
      "(lambda input, output: (- output.log_prob(input)))\n",
      "To silence this warning, decorate the function with @tf.autograph.experimental.do_not_convert\n",
      "469/469 [==============================] - 36s 73ms/step - loss: 209.4156 - val_loss: 160.8979\n",
      "Epoch 2/20\n",
      "469/469 [==============================] - 33s 71ms/step - loss: 145.7983 - val_loss: 136.5759\n",
      "Epoch 3/20\n",
      "469/469 [==============================] - 34s 72ms/step - loss: 131.7316 - val_loss: 127.4061\n",
      "Epoch 4/20\n",
      "469/469 [==============================] - 34s 73ms/step - loss: 126.7835 - val_loss: 124.4515\n",
      "Epoch 5/20\n",
      "469/469 [==============================] - 34s 72ms/step - loss: 124.3184 - val_loss: 123.1836\n",
      "Epoch 6/20\n",
      "469/469 [==============================] - 39s 82ms/step - loss: 122.2989 - val_loss: 120.7132\n",
      "Epoch 7/20\n",
      "469/469 [==============================] - 33s 70ms/step - loss: 120.1073 - val_loss: 118.9679\n",
      "Epoch 8/20\n",
      "469/469 [==============================] - 30s 64ms/step - loss: 118.4255 - val_loss: 117.3099\n",
      "Epoch 9/20\n",
      "469/469 [==============================] - 31s 65ms/step - loss: 117.2205 - val_loss: 115.9309\n",
      "Epoch 10/20\n",
      "469/469 [==============================] - 30s 65ms/step - loss: 116.1075 - val_loss: 115.3270\n",
      "Epoch 11/20\n",
      "469/469 [==============================] - 31s 65ms/step - loss: 115.3320 - val_loss: 115.3391\n",
      "Epoch 12/20\n",
      "469/469 [==============================] - 31s 66ms/step - loss: 114.6440 - val_loss: 114.2741\n",
      "Epoch 13/20\n",
      "469/469 [==============================] - 31s 66ms/step - loss: 113.9870 - val_loss: 113.5689\n",
      "Epoch 14/20\n",
      "469/469 [==============================] - 31s 66ms/step - loss: 113.4919 - val_loss: 114.0622\n",
      "Epoch 15/20\n",
      "469/469 [==============================] - 34s 72ms/step - loss: 112.9683 - val_loss: 112.7829\n",
      "Epoch 16/20\n",
      "469/469 [==============================] - 36s 77ms/step - loss: 112.5034 - val_loss: 112.4681\n",
      "Epoch 17/20\n",
      "469/469 [==============================] - 34s 72ms/step - loss: 112.0701 - val_loss: 112.0944\n",
      "Epoch 18/20\n",
      "469/469 [==============================] - 30s 64ms/step - loss: 111.6961 - val_loss: 111.7505\n",
      "Epoch 19/20\n",
      "469/469 [==============================] - 31s 66ms/step - loss: 111.3439 - val_loss: 111.5883\n",
      "Epoch 20/20\n",
      "469/469 [==============================] - 35s 75ms/step - loss: 110.9561 - val_loss: 110.8860\n"
     ]
    }
   ],
   "source": [
    "variational_auto_encoder.train(epochs=20, force_relearn=True)"
   ]
  },
  {
   "cell_type": "markdown",
   "metadata": {},
   "source": [
    "# Mono Images"
   ]
  },
  {
   "cell_type": "code",
   "execution_count": 152,
   "metadata": {},
   "outputs": [],
   "source": [
    "generator = StackedMNISTData(mode=DataMode.MONO_BINARY_COMPLETE, default_batch_size=2048)\n",
    "x_test, y_test = generator.get_random_batch(training=False, batch_size=2000)"
   ]
  },
  {
   "cell_type": "markdown",
   "metadata": {},
   "source": [
    "### Reconstruction results"
   ]
  },
  {
   "cell_type": "code",
   "execution_count": 153,
   "metadata": {},
   "outputs": [
    {
     "data": {
      "image/png": "[encoded data removed]",
      "text/plain": [
       "<Figure size 1440x288 with 10 Axes>"
      ]
     },
     "metadata": {
      "needs_background": "light"
     },
     "output_type": "display_data"
    },
    {
     "data": {
      "image/png": "[encoded data removed]",
      "text/plain": [
       "<Figure size 1440x288 with 10 Axes>"
      ]
     },
     "metadata": {
      "needs_background": "light"
     },
     "output_type": "display_data"
    }
   ],
   "source": [
    "reconstructed = variational_auto_encoder.reconstruct(x_test)\n",
    "\n",
    "display_images(x_test, 10)\n",
    "display_images(reconstructed, 10)"
   ]
  },
  {
   "cell_type": "code",
   "execution_count": 154,
   "metadata": {},
   "outputs": [
    {
     "name": "stdout",
     "output_type": "stream",
     "text": [
      "Accuracy of Reconstruction: 90.35%\n"
     ]
    }
   ],
   "source": [
    "net = VerificationNet(force_learn=False, file_name=\"../models/verification_model\")\n",
    "_, acc_ae = net.check_predictability(data=reconstructed, correct_labels=y_test)\n",
    "print(f\"Accuracy of Reconstruction: {100 * acc_ae:.2f}%\")\n"
   ]
  },
  {
   "cell_type": "markdown",
   "metadata": {},
   "source": [
    "### Autoencoder as a generator"
   ]
  },
  {
   "cell_type": "code",
   "execution_count": 155,
   "metadata": {},
   "outputs": [
    {
     "data": {
      "image/png": "[encoded data removed]",
      "text/plain": [
       "<Figure size 1440x288 with 20 Axes>"
      ]
     },
     "metadata": {
      "needs_background": "light"
     },
     "output_type": "display_data"
    }
   ],
   "source": [
    "generated = variational_auto_encoder.generate_new_samples()\n",
    "display_images(generated, 20)"
   ]
  },
  {
   "cell_type": "code",
   "execution_count": 132,
   "metadata": {},
   "outputs": [
    {
     "name": "stdout",
     "output_type": "stream",
     "text": [
      "Coverage: 100.00%\n",
      "Predictability: 82.70%\n"
     ]
    }
   ],
   "source": [
    "cov = net.check_class_coverage(data=generated, tolerance=0.98)\n",
    "pred, _ = net.check_predictability(data=generated)\n",
    "print(f\"Coverage: {100*cov:.2f}%\")\n",
    "print(f\"Predictability: {100*pred:.2f}%\")"
   ]
  },
  {
   "cell_type": "markdown",
   "metadata": {},
   "source": [
    "# Color Images"
   ]
  },
  {
   "cell_type": "code",
   "execution_count": 156,
   "metadata": {},
   "outputs": [],
   "source": [
    "generator = StackedMNISTData(mode=DataMode.COLOR_BINARY_COMPLETE, default_batch_size=2048)\n",
    "x_test, y_test = generator.get_random_batch(training=False, batch_size=10000)\n",
    "x_test = x_test.astype(np.float64)"
   ]
  },
  {
   "cell_type": "markdown",
   "metadata": {},
   "source": [
    "### Reconstruction results"
   ]
  },
  {
   "cell_type": "code",
   "execution_count": 157,
   "metadata": {},
   "outputs": [
    {
     "data": {
      "image/png": "[encoded data removed]",
      "text/plain": [
       "<Figure size 1440x288 with 10 Axes>"
      ]
     },
     "metadata": {
      "needs_background": "light"
     },
     "output_type": "display_data"
    },
    {
     "data": {
      "image/png": "[encoded data removed]",
      "text/plain": [
       "<Figure size 1440x288 with 10 Axes>"
      ]
     },
     "metadata": {
      "needs_background": "light"
     },
     "output_type": "display_data"
    }
   ],
   "source": [
    "reconstructed = variational_auto_encoder.reconstruct(x_test)\n",
    "\n",
    "display_images(x_test, 10, color=True)\n",
    "display_images(reconstructed, 10, color=True)"
   ]
  },
  {
   "cell_type": "code",
   "execution_count": 158,
   "metadata": {},
   "outputs": [
    {
     "name": "stdout",
     "output_type": "stream",
     "text": [
      "Accuracy of Reconstruction: 75.11%\n"
     ]
    }
   ],
   "source": [
    "net = VerificationNet(force_learn=False, file_name=\"../models/verification_model\")\n",
    "_, acc_ae = net.check_predictability(data=reconstructed, correct_labels=y_test, tolerance=0.5)\n",
    "print(f\"Accuracy of Reconstruction: {100 * acc_ae:.2f}%\")"
   ]
  },
  {
   "cell_type": "markdown",
   "metadata": {},
   "source": [
    "### Variational-Auto-Encoder as a generator"
   ]
  },
  {
   "cell_type": "code",
   "execution_count": 48,
   "metadata": {},
   "outputs": [
    {
     "name": "stdout",
     "output_type": "stream",
     "text": [
      "WARNING:tensorflow:Detecting that an object or model or tf.train.Checkpoint is being deleted with unrestored values. See the following logs for the specific values in question. To silence these warnings, use `status.expect_partial()`. See https://www.tensorflow.org/api_docs/python/tf/train/Checkpoint#restorefor details about the status object returned by the restore function.\n",
      "WARNING:tensorflow:Value in checkpoint could not be found in the restored object: (root).optimizer.iter\n",
      "WARNING:tensorflow:Value in checkpoint could not be found in the restored object: (root).optimizer.beta_1\n",
      "WARNING:tensorflow:Value in checkpoint could not be found in the restored object: (root).optimizer.beta_2\n",
      "WARNING:tensorflow:Value in checkpoint could not be found in the restored object: (root).optimizer.decay\n",
      "WARNING:tensorflow:Value in checkpoint could not be found in the restored object: (root).optimizer.learning_rate\n",
      "WARNING:tensorflow:Detecting that an object or model or tf.train.Checkpoint is being deleted with unrestored values. See the following logs for the specific values in question. To silence these warnings, use `status.expect_partial()`. See https://www.tensorflow.org/api_docs/python/tf/train/Checkpoint#restorefor details about the status object returned by the restore function.\n",
      "WARNING:tensorflow:Value in checkpoint could not be found in the restored object: (root).optimizer.iter\n",
      "WARNING:tensorflow:Value in checkpoint could not be found in the restored object: (root).optimizer.beta_1\n",
      "WARNING:tensorflow:Value in checkpoint could not be found in the restored object: (root).optimizer.beta_2\n",
      "WARNING:tensorflow:Value in checkpoint could not be found in the restored object: (root).optimizer.decay\n",
      "WARNING:tensorflow:Value in checkpoint could not be found in the restored object: (root).optimizer.learning_rate\n"
     ]
    },
    {
     "data": {
      "image/png": "[encoded data removed]",
      "text/plain": [
       "<Figure size 1440x288 with 20 Axes>"
      ]
     },
     "metadata": {
      "needs_background": "light"
     },
     "output_type": "display_data"
    }
   ],
   "source": [
    "generated = variational_auto_encoder.generate_new_samples(no_channels=3)\n",
    "display_images(generated, 20, color=True)"
   ]
  },
  {
   "cell_type": "code",
   "execution_count": 49,
   "metadata": {},
   "outputs": [
    {
     "name": "stdout",
     "output_type": "stream",
     "text": [
      "Coverage: 16.10%\n",
      "Predictability: 44.30%\n"
     ]
    }
   ],
   "source": [
    "cov = net.check_class_coverage(data=generated, tolerance=0.98)\n",
    "pred, _ = net.check_predictability(data=generated)\n",
    "print(f\"Coverage: {100*cov:.2f}%\")\n",
    "print(f\"Predictability: {100*pred:.2f}%\")"
   ]
  },
  {
   "cell_type": "markdown",
   "metadata": {},
   "source": [
    "# Variational-Auto-Encoder as anomaly detector"
   ]
  },
  {
   "cell_type": "code",
   "execution_count": 60,
   "metadata": {},
   "outputs": [
    {
     "name": "stdout",
     "output_type": "stream",
     "text": [
      "./models/vae_missing\n",
      "Read model from file, so I do not retrain\n"
     ]
    }
   ],
   "source": [
    "vae_anomaly = VariationalAutoEncoder(latent_dim=8, missing=True)\n",
    "vae_anomaly.train(force_relearn=False)"
   ]
  },
  {
   "cell_type": "markdown",
   "metadata": {},
   "source": [
    "### Mono images"
   ]
  },
  {
   "cell_type": "code",
   "execution_count": 53,
   "metadata": {},
   "outputs": [
    {
     "ename": "IndexError",
     "evalue": "index 10 is out of bounds for axis 0 with size 10",
     "output_type": "error",
     "traceback": [
      "\u001b[0;31m---------------------------------------------------------------------------\u001b[0m",
      "\u001b[0;31mIndexError\u001b[0m                                Traceback (most recent call last)",
      "\u001b[0;32m/var/folders/w2/4g3c4yrn38g2nwwdhjdlx6fc0000gn/T/ipykernel_29519/1307323841.py\u001b[0m in \u001b[0;36m<module>\u001b[0;34m\u001b[0m\n\u001b[1;32m      3\u001b[0m \u001b[0;34m\u001b[0m\u001b[0m\n\u001b[1;32m      4\u001b[0m \u001b[0manomalies\u001b[0m \u001b[0;34m=\u001b[0m \u001b[0mvae_anomaly\u001b[0m\u001b[0;34m.\u001b[0m\u001b[0mget_anomalies\u001b[0m\u001b[0;34m(\u001b[0m\u001b[0mx_test\u001b[0m\u001b[0;34m)\u001b[0m\u001b[0;34m\u001b[0m\u001b[0;34m\u001b[0m\u001b[0m\n\u001b[0;32m----> 5\u001b[0;31m \u001b[0mdisplay_images\u001b[0m\u001b[0;34m(\u001b[0m\u001b[0mx_test\u001b[0m\u001b[0;34m[\u001b[0m\u001b[0manomalies\u001b[0m\u001b[0;34m]\u001b[0m\u001b[0;34m,\u001b[0m \u001b[0;36m10\u001b[0m\u001b[0;34m)\u001b[0m\u001b[0;34m\u001b[0m\u001b[0;34m\u001b[0m\u001b[0m\n\u001b[0m",
      "\u001b[0;32m~/Code/School/IT3030-Deep-Learning/Project2/utils.py\u001b[0m in \u001b[0;36mdisplay_images\u001b[0;34m(x, N, color)\u001b[0m\n\u001b[1;32m     11\u001b[0m             \u001b[0mplt\u001b[0m\u001b[0;34m.\u001b[0m\u001b[0mimshow\u001b[0m\u001b[0;34m(\u001b[0m\u001b[0mx\u001b[0m\u001b[0;34m[\u001b[0m\u001b[0mi\u001b[0m\u001b[0;34m]\u001b[0m\u001b[0;34m)\u001b[0m\u001b[0;34m\u001b[0m\u001b[0;34m\u001b[0m\u001b[0m\n\u001b[1;32m     12\u001b[0m         \u001b[0;32melse\u001b[0m\u001b[0;34m:\u001b[0m\u001b[0;34m\u001b[0m\u001b[0;34m\u001b[0m\u001b[0m\n\u001b[0;32m---> 13\u001b[0;31m             \u001b[0mplt\u001b[0m\u001b[0;34m.\u001b[0m\u001b[0mimshow\u001b[0m\u001b[0;34m(\u001b[0m\u001b[0mx\u001b[0m\u001b[0;34m[\u001b[0m\u001b[0mi\u001b[0m\u001b[0;34m]\u001b[0m\u001b[0;34m.\u001b[0m\u001b[0mreshape\u001b[0m\u001b[0;34m(\u001b[0m\u001b[0;36m28\u001b[0m\u001b[0;34m,\u001b[0m \u001b[0;36m28\u001b[0m\u001b[0;34m)\u001b[0m\u001b[0;34m)\u001b[0m\u001b[0;34m\u001b[0m\u001b[0;34m\u001b[0m\u001b[0m\n\u001b[0m\u001b[1;32m     14\u001b[0m         \u001b[0mplt\u001b[0m\u001b[0;34m.\u001b[0m\u001b[0maxis\u001b[0m\u001b[0;34m(\u001b[0m\u001b[0;34m'off'\u001b[0m\u001b[0;34m)\u001b[0m\u001b[0;34m\u001b[0m\u001b[0;34m\u001b[0m\u001b[0m\n\u001b[1;32m     15\u001b[0m     \u001b[0mplt\u001b[0m\u001b[0;34m.\u001b[0m\u001b[0mshow\u001b[0m\u001b[0;34m(\u001b[0m\u001b[0;34m)\u001b[0m\u001b[0;34m\u001b[0m\u001b[0;34m\u001b[0m\u001b[0m\n",
      "\u001b[0;31mIndexError\u001b[0m: index 10 is out of bounds for axis 0 with size 10"
     ]
    },
    {
     "data": {
      "image/png": "[encoded data removed]",
      "text/plain": [
       "<Figure size 1440x288 with 10 Axes>"
      ]
     },
     "metadata": {
      "needs_background": "light"
     },
     "output_type": "display_data"
    }
   ],
   "source": [
    "generator = StackedMNISTData(mode=DataMode.MONO_BINARY_COMPLETE, default_batch_size=2048)\n",
    "x_test, y_test = generator.get_random_batch(training=False, batch_size=2000)\n",
    "\n",
    "anomalies = vae_anomaly.get_anomalies(x_test)\n",
    "display_images(x_test[anomalies], 10)"
   ]
  },
  {
   "cell_type": "markdown",
   "metadata": {},
   "source": [
    "### Color images"
   ]
  },
  {
   "cell_type": "code",
   "execution_count": null,
   "metadata": {},
   "outputs": [
    {
     "data": {
      "image/png": "[encoded data removed]",
      "text/plain": [
       "<Figure size 1440x288 with 10 Axes>"
      ]
     },
     "metadata": {
      "needs_background": "light"
     },
     "output_type": "display_data"
    }
   ],
   "source": [
    "generator = StackedMNISTData(mode=DataMode.COLOR_BINARY_COMPLETE, default_batch_size=2048)\n",
    "x_test, y_test = generator.get_random_batch(training=False, batch_size=2000)\n",
    "x_test = x_test.astype(np.float64)\n",
    "\n",
    "anomalies = vae_anomaly.get_anomalies(x_test, k=10, N=1000)\n",
    "display_images(x_test[anomalies], 10, color=True)"
   ]
  }
 ],
 "metadata": {
  "interpreter": {
   "hash": "49ff9a1d55cbad36b515c3ded8837e12145fab330794be4b4ac6e95d3772d975"
  },
  "kernelspec": {
   "display_name": "Python 3.8.0 ('tensorflow')",
   "language": "python",
   "name": "python3"
  },
  "language_info": {
   "codemirror_mode": {
    "name": "ipython",
    "version": 3
   },
   "file_extension": ".py",
   "mimetype": "text/x-python",
   "name": "python",
   "nbconvert_exporter": "python",
   "pygments_lexer": "ipython3",
   "version": "3.8.0"
  },
  "orig_nbformat": 4
 },
 "nbformat": 4,
 "nbformat_minor": 2
}

{
 "cells": [
  {
   "cell_type": "code",
   "execution_count": 1,
   "metadata": {},
   "outputs": [],
   "source": [
    "%load_ext autoreload\n",
    "%autoreload 2"
   ]
  },
  {
   "cell_type": "code",
   "execution_count": 2,
   "metadata": {},
   "outputs": [],
   "source": [
    "import pandas as pd\n",
    "import data_settings as settings\n",
    "from preprocessing import filter_column_based_on_quantile, normalize_based_on_other_df, avoid_structural_imbalance, add_date_time_features"
   ]
  },
  {
   "cell_type": "code",
   "execution_count": 3,
   "metadata": {},
   "outputs": [],
   "source": [
    "df = pd.read_csv(\"./data/no1_validation.csv\")\n",
    "df_train = pd.read_csv(\"./data/no1_train.csv\")\n",
    "df_train = filter_column_based_on_quantile(df_train, 0.001, settings.COLUMNS_TO_CLAMP)\n",
    "df = filter_column_based_on_quantile(df, 0.001, settings.COLUMNS_TO_CLAMP)\n",
    "df = normalize_based_on_other_df(df, df_train, settings.COLUMNS_TO_NORMALIZE)\n",
    "if settings.AVOID_STRUCTURAL_IMBALANCE:\n",
    "    df = avoid_structural_imbalance(df)\n",
    "df = add_date_time_features(df)\n",
    "df[\"y_prev\"] = df[\"y\"].shift(1) # Previous y lag feature\n",
    "df[\"y_prev_24h\"] = df[\"y\"].shift(24*60//5) # Add power imbalance from 24 hours ago\n",
    "df = pd.merge_asof(\n",
    "    df,\n",
    "    df.resample('D', on=\"start_time\")[\"y\"].mean().shift(1),\n",
    "    right_index=True,\n",
    "    left_on=\"start_time\",\n",
    ") # Mean power imbalance yesterday\n",
    "df = df.rename(columns={\"y_x\": \"y\", \"y_y\": \"y_yesterday\"})\n",
    "df = df.dropna()\n",
    "df = df.drop(columns=settings.COLUMNS_TO_DROP)\n",
    "df = df[[c for c in df if c not in ['y_prev']] \n",
    "       + ['y_prev']]\n",
    "\n",
    "df.to_csv(\"./data/test_dataset.csv\", index=False)"
   ]
  }
 ],
 "metadata": {
  "environment": {
   "kernel": "python3",
   "name": "tf2-gpu.2-8.m91",
   "type": "gcloud",
   "uri": "gcr.io/deeplearning-platform-release/tf2-gpu.2-8:m91"
  },
  "interpreter": {
   "hash": "49ff9a1d55cbad36b515c3ded8837e12145fab330794be4b4ac6e95d3772d975"
  },
  "kernelspec": {
   "display_name": "Python 3",
   "language": "python",
   "name": "python3"
  },
  "language_info": {
   "codemirror_mode": {
    "name": "ipython",
    "version": 3
   },
   "file_extension": ".py",
   "mimetype": "text/x-python",
   "name": "python",
   "nbconvert_exporter": "python",
   "pygments_lexer": "ipython3",
   "version": "3.7.12"
  }
 },
 "nbformat": 4,
 "nbformat_minor": 4
}

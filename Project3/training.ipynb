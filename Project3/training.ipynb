{
 "cells": [
  {
   "cell_type": "code",
   "execution_count": 16,
   "metadata": {},
   "outputs": [],
   "source": [
    "from matplotlib import pyplot\n",
    "from keras.models import Sequential\n",
    "from keras.layers import Dense\n",
    "from keras.layers import LSTM, Dropout\n",
    "from tqdm import tqdm\n",
    "import pandas as pd\n",
    "from sklearn.preprocessing import MinMaxScaler\n",
    "from sklearn.metrics import mean_squared_error\n",
    "import numpy as np\n",
    "import tensorflow as tf\n",
    "from tensorflow import keras"
   ]
  },
  {
   "cell_type": "markdown",
   "metadata": {},
   "source": [
    "# Prepare training, validation and test data"
   ]
  },
  {
   "cell_type": "code",
   "execution_count": 3,
   "metadata": {},
   "outputs": [],
   "source": [
    "def create_lstm_data(X, y, k):\n",
    "    '''\n",
    "    input:\n",
    "        data - the numpy matrix of (n, p+1) shape, where n is the number of rows,\n",
    "               p+1 is the number of predictors + 1 target column\n",
    "        k    - the length of the sequence, namely, the number of previous rows \n",
    "               (including current) we want to use to predict the target.\n",
    "    output:\n",
    "        X_data - the predictors numpy matrix of (n-k, k, p) shape\n",
    "        y_data - the target numpy array of (n-k, 1) shape\n",
    "    '''\n",
    "    # initialize zero matrix of (n-k, k, p) shape to store the n-k number\n",
    "    # of sequences of k-length and zero array of (n-k, 1) to store targets\n",
    "    X_data = np.zeros([X.shape[0]-k, k, X.shape[1]])\n",
    "    y_data = []\n",
    "    \n",
    "    # run loop to slice k-number of previous rows as 1 sequence to predict\n",
    "    # 1 target and save them to X_data matrix and y_data list\n",
    "    for i in range(k, X.shape[0]):\n",
    "        cur_sequence = X[i-k: i, :]\n",
    "        \n",
    "        X_data[i-k,:, :] = cur_sequence.reshape(1, k, X_data.shape[2])\n",
    "        y_data.append(y[i-1])\n",
    "    \n",
    "    return X_data, np.asarray(y_data)"
   ]
  },
  {
   "cell_type": "code",
   "execution_count": 13,
   "metadata": {},
   "outputs": [
    {
     "name": "stderr",
     "output_type": "stream",
     "text": [
      "/var/folders/w2/4g3c4yrn38g2nwwdhjdlx6fc0000gn/T/ipykernel_47928/4061346065.py:12: SettingWithCopyWarning: \n",
      "A value is trying to be set on a copy of a slice from a DataFrame.\n",
      "Try using .loc[row_indexer,col_indexer] = value instead\n",
      "\n",
      "See the caveats in the documentation: https://pandas.pydata.org/pandas-docs/stable/user_guide/indexing.html#returning-a-view-versus-a-copy\n",
      "  df_train[scaling_columns] = scaler.fit_transform(df_train[scaling_columns])\n"
     ]
    }
   ],
   "source": [
    "df_train = pd.read_csv(\"./data/preprocessed_data.csv\")\n",
    "df_test = pd.read_csv(\"./data/preprocessed_validation_data.csv\")\n",
    "\n",
    "# Concat with keys\n",
    "temp = pd.get_dummies(pd.concat([df_train,df_test],keys=[0,1]), columns=['time_of_day', 'time_of_week', 'time_of_year'])\n",
    "\n",
    "# Selecting data from multi index \n",
    "df_train, df_test = temp.xs(0),temp.xs(1)\n",
    "\n",
    "scaler = MinMaxScaler()\n",
    "scaling_columns = ['hydro', 'micro', 'thermal', 'wind', 'total', 'y', 'sys_reg', 'flow', 'y_prev']\n",
    "df_train[scaling_columns] = scaler.fit_transform(df_train[scaling_columns])\n",
    "df_test[scaling_columns] = scaler.transform(df_test[scaling_columns])"
   ]
  },
  {
   "cell_type": "code",
   "execution_count": 14,
   "metadata": {},
   "outputs": [],
   "source": [
    "y = df_train.pop(\"y\").values\n",
    "X = df_train.values.astype('float32')\n",
    "\n",
    "no_rows = X.shape[0]\n",
    "data_valid = X[int(no_rows*0.8):,:]\n",
    "y_valid = y[int(no_rows*0.8):]\n",
    "data_train = X[:int(no_rows*0.8),:]\n",
    "y_train = y[:int(no_rows*0.8)]"
   ]
  },
  {
   "cell_type": "markdown",
   "metadata": {},
   "source": [
    "# Setup and train model"
   ]
  },
  {
   "cell_type": "code",
   "execution_count": null,
   "metadata": {},
   "outputs": [],
   "source": [
    "def LSTM_model(X_train, y_train, X_valid, y_valid, k):\n",
    "    # Define and compile LSTM model\n",
    "    model = Sequential()\n",
    "    model.add(LSTM(100, return_sequences=True, input_shape=(k, X_train.shape[2])))\n",
    "    model.add(LSTM(50, return_sequences = False))\n",
    "    #model.add(Dropout(0.2))\n",
    "    #model.add(LSTM(50, return_sequences = True))\n",
    "    #model.add(Dropout(0.2))\n",
    "    #model.add(LSTM(50))\n",
    "    #model.add(Dropout(0.2))\n",
    "    model.add(Dense(1, \"linear\"))\n",
    "    opt = tf.keras.optimizers.Adam(learning_rate=0.001)\n",
    "    model.compile(optimizer=opt, loss='mse')#,  metrics=[''])\n",
    "    # Early stopping and best model checkpoint parameters\n",
    "    es = tf.keras.callbacks.EarlyStopping(monitor='val_loss', mode='max', verbose=2, patience=5)\n",
    "    mc = tf.keras.callbacks.ModelCheckpoint('best_model.h5', mode='min', verbose=2, save_best_only=True)\n",
    "    # Train the model \n",
    "    history = model.fit(X_train, y_train,\n",
    "                        validation_data=(X_valid, y_valid),\n",
    "                        epochs=5, verbose=2, callbacks=[es, mc])"
   ]
  },
  {
   "cell_type": "code",
   "execution_count": 11,
   "metadata": {},
   "outputs": [
    {
     "data": {
      "text/plain": [
       "(218476, 51)"
      ]
     },
     "execution_count": 11,
     "metadata": {},
     "output_type": "execute_result"
    }
   ],
   "source": [
    "seq_len = 10\n",
    " \n",
    "X_train, y_train = create_lstm_data(data_train, y_train, seq_len)\n",
    "X_valid, y_valid = create_lstm_data(data_valid, y_valid, seq_len)\n",
    "\n",
    "LSTM_model(X_train, y_train, X_valid, y_valid, seq_len)"
   ]
  },
  {
   "cell_type": "markdown",
   "metadata": {},
   "source": [
    "# Validate"
   ]
  },
  {
   "cell_type": "code",
   "execution_count": 18,
   "metadata": {},
   "outputs": [
    {
     "name": "stdout",
     "output_type": "stream",
     "text": [
      "pred_no:  [[0.39259163 0.2305624  0.33175355 0.15375513 0.36304292 0.8101266\n",
      "  0.1768399  0.34806824 0.         0.         0.         0.\n",
      "  0.         0.         0.         0.         0.         0.\n",
      "  0.         0.         0.         0.         0.         0.\n",
      "  0.         0.         0.         0.         1.         0.\n",
      "  0.         0.         0.         0.         1.         0.\n",
      "  0.         0.         0.         1.         0.         0.\n",
      "  0.         0.         0.         0.         0.         0.\n",
      "  0.         0.         0.        ]\n",
      " [0.39259163 0.2305624  0.33175355 0.15375513 0.36304292 0.8101266\n",
      "  0.1768399  0.33528802 0.         0.         0.         0.\n",
      "  0.         0.         0.         0.         0.         0.\n",
      "  0.         0.         0.         0.         0.         0.\n",
      "  0.         0.         0.         0.         1.         0.\n",
      "  0.         0.         0.         0.         1.         0.\n",
      "  0.         0.         0.         1.         0.         0.\n",
      "  0.         0.         0.         0.         0.         0.\n",
      "  0.         0.         0.        ]\n",
      " [0.39259163 0.2305624  0.33175355 0.15375513 0.36304292 0.8101266\n",
      "  0.1768399  0.3377931  0.         0.         0.         0.\n",
      "  0.         0.         0.         0.         0.         0.\n",
      "  0.         0.         0.         0.         0.         0.\n",
      "  0.         0.         0.         0.         1.         0.\n",
      "  0.         0.         0.         0.         1.         0.\n",
      "  0.         0.         0.         1.         0.         0.\n",
      "  0.         0.         0.         0.         0.         0.\n",
      "  0.         0.         0.        ]\n",
      " [0.39259163 0.2305624  0.33175355 0.15375513 0.36304292 0.8101266\n",
      "  0.1768399  0.34213597 0.         0.         0.         0.\n",
      "  0.         0.         0.         0.         0.         0.\n",
      "  0.         0.         0.         0.         0.         0.\n",
      "  0.         0.         0.         0.         1.         0.\n",
      "  0.         0.         0.         0.         1.         0.\n",
      "  0.         0.         0.         1.         0.         0.\n",
      "  0.         0.         0.         0.         0.         0.\n",
      "  0.         0.         0.        ]\n",
      " [0.39259163 0.2305624  0.33175355 0.15375513 0.36304292 0.8101266\n",
      "  0.1768399  0.34704155 0.         0.         0.         0.\n",
      "  0.         0.         0.         0.         0.         0.\n",
      "  0.         0.         0.         0.         0.         0.\n",
      "  0.         0.         0.         0.         1.         0.\n",
      "  0.         0.         0.         0.         1.         0.\n",
      "  0.         0.         0.         1.         0.         0.\n",
      "  0.         0.         0.         0.         0.         0.\n",
      "  0.         0.         0.        ]\n",
      " [0.39259163 0.2305624  0.33175355 0.15375513 0.36304292 0.8101266\n",
      "  0.1768399  0.34521666 0.         0.         0.         0.\n",
      "  0.         0.         0.         0.         0.         0.\n",
      "  0.         0.         0.         0.         0.         0.\n",
      "  0.         0.         0.         0.         1.         0.\n",
      "  0.         0.         0.         0.         1.         0.\n",
      "  0.         0.         0.         1.         0.         0.\n",
      "  0.         0.         0.         0.         0.         0.\n",
      "  0.         0.         0.        ]\n",
      " [0.39259163 0.2305624  0.33175355 0.15375513 0.36304292 0.8101266\n",
      "  0.1768399  0.34832245 0.         0.         0.         0.\n",
      "  0.         0.         0.         0.         0.         0.\n",
      "  0.         0.         0.         0.         0.         0.\n",
      "  0.         0.         0.         0.         1.         0.\n",
      "  0.         0.         0.         0.         1.         0.\n",
      "  0.         0.         0.         1.         0.         0.\n",
      "  0.         0.         0.         0.         0.         0.\n",
      "  0.         0.         0.        ]\n",
      " [0.39259163 0.2305624  0.33175355 0.15375513 0.36304292 0.8101266\n",
      "  0.1768399  0.35370114 0.         0.         0.         0.\n",
      "  0.         0.         0.         0.         0.         0.\n",
      "  0.         0.         0.         0.         0.         0.\n",
      "  0.         0.         0.         0.         1.         0.\n",
      "  0.         0.         0.         0.         1.         0.\n",
      "  0.         0.         0.         1.         0.         0.\n",
      "  0.         0.         0.         0.         0.         0.\n",
      "  0.         0.         0.        ]\n",
      " [0.39259163 0.2305624  0.33175355 0.15375513 0.36304292 0.8101266\n",
      "  0.1768399  0.35771266 0.         0.         0.         0.\n",
      "  0.         0.         0.         0.         0.         0.\n",
      "  0.         0.         0.         0.         0.         0.\n",
      "  0.         0.         0.         0.         1.         0.\n",
      "  0.         0.         0.         0.         1.         0.\n",
      "  0.         0.         0.         1.         0.         0.\n",
      "  0.         0.         0.         0.         0.         0.\n",
      "  0.         0.         0.        ]\n",
      " [0.39259163 0.2305624  0.33175355 0.15375513 0.36304292 0.8101266\n",
      "  0.1768399  0.3636622  0.         0.         0.         0.\n",
      "  0.         0.         0.         0.         0.         0.\n",
      "  0.         0.         0.         0.         0.         0.\n",
      "  0.         0.         0.         0.         1.         0.\n",
      "  0.         0.         0.         0.         1.         0.\n",
      "  0.         0.         0.         1.         0.         0.\n",
      "  0.         0.         0.         0.         0.         0.\n",
      "  0.         0.         0.        ]]\n"
     ]
    },
    {
     "ename": "ValueError",
     "evalue": "could not broadcast input array from shape (8,51) into shape (8,11)",
     "output_type": "error",
     "traceback": [
      "\u001b[0;31m---------------------------------------------------------------------------\u001b[0m",
      "\u001b[0;31mValueError\u001b[0m                                Traceback (most recent call last)",
      "\u001b[0;32m/var/folders/w2/4g3c4yrn38g2nwwdhjdlx6fc0000gn/T/ipykernel_47928/3592055154.py\u001b[0m in \u001b[0;36m<module>\u001b[0;34m\u001b[0m\n\u001b[1;32m      9\u001b[0m     \u001b[0mforecast\u001b[0m \u001b[0;34m=\u001b[0m \u001b[0mmodel\u001b[0m\u001b[0;34m(\u001b[0m\u001b[0mnp\u001b[0m\u001b[0;34m.\u001b[0m\u001b[0marray\u001b[0m\u001b[0;34m(\u001b[0m\u001b[0;34m[\u001b[0m\u001b[0mmodel_input\u001b[0m\u001b[0;34m]\u001b[0m\u001b[0;34m)\u001b[0m\u001b[0;34m)\u001b[0m\u001b[0;34m\u001b[0m\u001b[0;34m\u001b[0m\u001b[0m\n\u001b[1;32m     10\u001b[0m     \u001b[0mcp\u001b[0m \u001b[0;34m=\u001b[0m \u001b[0mnp\u001b[0m\u001b[0;34m.\u001b[0m\u001b[0mzeros\u001b[0m\u001b[0;34m(\u001b[0m\u001b[0;34m(\u001b[0m\u001b[0mseq_len\u001b[0m\u001b[0;34m,\u001b[0m \u001b[0;36m11\u001b[0m\u001b[0;34m)\u001b[0m\u001b[0;34m)\u001b[0m\u001b[0;34m\u001b[0m\u001b[0;34m\u001b[0m\u001b[0m\n\u001b[0;32m---> 11\u001b[0;31m     \u001b[0mcp\u001b[0m\u001b[0;34m[\u001b[0m\u001b[0;36m0\u001b[0m\u001b[0;34m:\u001b[0m\u001b[0mseq_len\u001b[0m\u001b[0;34m-\u001b[0m\u001b[0;36m2\u001b[0m\u001b[0;34m]\u001b[0m \u001b[0;34m=\u001b[0m \u001b[0mmodel_input\u001b[0m\u001b[0;34m[\u001b[0m\u001b[0;36m1\u001b[0m\u001b[0;34m:\u001b[0m\u001b[0mseq_len\u001b[0m\u001b[0;34m-\u001b[0m\u001b[0;36m1\u001b[0m\u001b[0;34m]\u001b[0m\u001b[0;34m\u001b[0m\u001b[0;34m\u001b[0m\u001b[0m\n\u001b[0m\u001b[1;32m     12\u001b[0m     \u001b[0mcp\u001b[0m\u001b[0;34m[\u001b[0m\u001b[0;34m-\u001b[0m\u001b[0;36m1\u001b[0m\u001b[0;34m]\u001b[0m \u001b[0;34m=\u001b[0m \u001b[0mmodel_input\u001b[0m\u001b[0;34m[\u001b[0m\u001b[0mseq_len\u001b[0m\u001b[0;34m-\u001b[0m\u001b[0;36m1\u001b[0m\u001b[0;34m]\u001b[0m\u001b[0;34m\u001b[0m\u001b[0;34m\u001b[0m\u001b[0m\n\u001b[1;32m     13\u001b[0m     \u001b[0mcp\u001b[0m\u001b[0;34m[\u001b[0m\u001b[0;34m-\u001b[0m\u001b[0;36m1\u001b[0m\u001b[0;34m,\u001b[0m \u001b[0;34m-\u001b[0m\u001b[0;36m1\u001b[0m\u001b[0;34m]\u001b[0m \u001b[0;34m=\u001b[0m \u001b[0mforecast\u001b[0m\u001b[0;34m\u001b[0m\u001b[0;34m\u001b[0m\u001b[0m\n",
      "\u001b[0;31mValueError\u001b[0m: could not broadcast input array from shape (8,51) into shape (8,11)"
     ]
    }
   ],
   "source": [
    "seq_len = 10\n",
    "model = keras.models.load_model('best_model.h5')\n",
    "forecast_window_len = 24\n",
    "start_ind = 70\n",
    "model_input = X[start_ind:start_ind+seq_len]\n",
    "forecasts = [y[start_ind+seq_len-1]]\n",
    "for pred_no in range(0, forecast_window_len):\n",
    "    print(\"pred_no: \", model_input)\n",
    "    forecast = model(np.array([model_input]))\n",
    "    cp = np.zeros((seq_len, 11))\n",
    "    cp[0:seq_len-2] = model_input[1:seq_len-1]\n",
    "    cp[-1] = model_input[seq_len-1]\n",
    "    cp[-1, -1] = forecast\n",
    "    model_input = cp\n",
    "    forecasts.append(forecast)"
   ]
  },
  {
   "cell_type": "code",
   "execution_count": null,
   "metadata": {},
   "outputs": [],
   "source": [
    "forecasts = np.array(forecasts)\n",
    "forecasts = forecasts.reshape(forecast_window_len+1)\n",
    "\n",
    "pyplot.plot(range(seq_len-1, seq_len+forecast_window_len-1), y[start_ind+seq_len-1:start_ind+seq_len+forecast_window_len-1], label='y_true')\n",
    "pyplot.plot(range(seq_len-1, seq_len+forecast_window_len), forecasts, label='y_pred')\n",
    "pyplot.plot(range(0, seq_len), y[start_ind:start_ind+seq_len], label='hist')\n",
    "\n",
    "pyplot.legend()\n",
    "pyplot.show()"
   ]
  },
  {
   "cell_type": "markdown",
   "metadata": {},
   "source": [
    "# Test"
   ]
  }
 ],
 "metadata": {
  "interpreter": {
   "hash": "49ff9a1d55cbad36b515c3ded8837e12145fab330794be4b4ac6e95d3772d975"
  },
  "kernelspec": {
   "display_name": "Python 3.8.0 ('tensorflow')",
   "language": "python",
   "name": "python3"
  },
  "language_info": {
   "codemirror_mode": {
    "name": "ipython",
    "version": 3
   },
   "file_extension": ".py",
   "mimetype": "text/x-python",
   "name": "python",
   "nbconvert_exporter": "python",
   "pygments_lexer": "ipython3",
   "version": "3.8.0"
  },
  "orig_nbformat": 4
 },
 "nbformat": 4,
 "nbformat_minor": 2
}
